{
 "cells": [
  {
   "cell_type": "code",
   "execution_count": 52,
   "id": "a9d8a5b4-ddf6-4049-8d36-9f0c11a66d8c",
   "metadata": {
    "tags": []
   },
   "outputs": [],
   "source": [
    "import pandas as pd\n",
    "from pathlib import Path\n",
    "import locale\n"
   ]
  },
  {
   "cell_type": "code",
   "execution_count": 53,
   "id": "7bec81b8-2dd8-4d42-b4a1-a9663a7d51ef",
   "metadata": {
    "tags": []
   },
   "outputs": [],
   "source": [
    "# First I imported the csv file using pandas\n",
    "bank_csv = Path(\"Resources/budget_data.csv\")\n",
    "pd.set_option('display.max_rows', 100)\n",
    "bank_df = pd.read_csv (bank_csv, encoding=\"utf-8\")"
   ]
  },
  {
   "cell_type": "code",
   "execution_count": 54,
   "id": "51bf4b9b-dacd-496e-a9be-a990f144fa6c",
   "metadata": {
    "tags": []
   },
   "outputs": [],
   "source": [
    "# I counted the months using the count function in the date column\n",
    "Total_months = bank_df[\"Date\"].count()"
   ]
  },
  {
   "cell_type": "code",
   "execution_count": 55,
   "id": "357352b5-fc55-4555-8789-36614929c3ad",
   "metadata": {
    "tags": []
   },
   "outputs": [],
   "source": [
    "# I then added al of the values from the column profits/losses using the 'sum' function and imported a currency in us dollars which is shown in the result at the end\n",
    "Total_sum = bank_df[\"Profit/Losses\"].sum()\n"
   ]
  },
  {
   "cell_type": "code",
   "execution_count": 79,
   "id": "e2a2d791-4fe2-41d3-9e69-e7e93f9781bc",
   "metadata": {
    "tags": []
   },
   "outputs": [],
   "source": [
    "# I used the function 'diff' the find all the differences between the months and then used those results to find the average using the 'mean' function.\n",
    "row_changes= bank_df['Profit/Losses'].diff()\n",
    "Average_Changes = row_changes.mean()\n",
    "Average_Changes = round(Average_Changes,3)\n"
   ]
  },
  {
   "cell_type": "code",
   "execution_count": 88,
   "id": "b582460e-c248-41cc-9742-29f0e0193648",
   "metadata": {
    "tags": []
   },
   "outputs": [],
   "source": [
    "# Here I used the 'max' funciont to find the greatest increase in the list 'row_changes' I created above\n",
    "greatest_inc = row_changes.max()\n",
    "\n",
    "# Then used 'loc' function to find the max values in the 'greatest_inc' list and used the 'values' function to only print the values I wanted from the list\n",
    "inc_month= bank_df.loc[row_changes == greatest_inc, 'Date'].values[0]\n"
   ]
  },
  {
   "cell_type": "code",
   "execution_count": 89,
   "id": "2a9cd358-b2fe-48e1-8fd5-ac85fb9bc85b",
   "metadata": {},
   "outputs": [],
   "source": [
    "#here I did the same as above but using the 'min' function instead of 'max'\n",
    "Greatest_Dec= row_changes.min()\n",
    "dec_month= bank_df.loc[row_changes == Greatest_Dec, 'Date'].values[0]\n"
   ]
  },
  {
   "cell_type": "code",
   "execution_count": 90,
   "id": "6d177ded-4146-4765-840e-4229a3520dba",
   "metadata": {
    "tags": []
   },
   "outputs": [
    {
     "name": "stdout",
     "output_type": "stream",
     "text": [
      "Financial Analysis\n",
      "-------------------\n",
      "Total Months :  86\n",
      "Total :  $22564198.00\n",
      "Average Change :  % -8311.106\n",
      "Greatest Increase in Profits :  Aug-16 ( $ 1862002.0 )\n",
      "Greatest decrease in Profits :  Feb-14 ( $ -1825558.0 )\n"
     ]
    }
   ],
   "source": [
    "print('Financial Analysis')\n",
    "print('-------------------')\n",
    "print(\"Total Months : \", Total_months)\n",
    "print(\"Total : \", locale.currency(Total_sum))\n",
    "print(\"Average Change : \",'%',Average_Changes)\n",
    "print(\"Greatest Increase in Profits : \", inc_month,'(', '$', greatest_inc,')')\n",
    "print(\"Greatest decrease in Profits : \", dec_month, '(', '$', Greatest_Dec, ')')"
   ]
  }
 ],
 "metadata": {
  "kernelspec": {
   "display_name": "Python 3 (ipykernel)",
   "language": "python",
   "name": "python3"
  },
  "language_info": {
   "codemirror_mode": {
    "name": "ipython",
    "version": 3
   },
   "file_extension": ".py",
   "mimetype": "text/x-python",
   "name": "python",
   "nbconvert_exporter": "python",
   "pygments_lexer": "ipython3",
   "version": "3.11.5"
  }
 },
 "nbformat": 4,
 "nbformat_minor": 5
}
