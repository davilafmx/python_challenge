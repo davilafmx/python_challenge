{
 "cells": [
  {
   "cell_type": "code",
   "execution_count": 24,
   "id": "c22ac5cc-4586-4312-924c-1534ed5ad350",
   "metadata": {
    "tags": []
   },
   "outputs": [],
   "source": [
    "import pandas as pd\n",
    "from pathlib import Path\n",
    "import locale\n",
    "\n"
   ]
  },
  {
   "cell_type": "code",
   "execution_count": 36,
   "id": "48b2bf12-fbda-4725-8c36-2aeff39a52a2",
   "metadata": {
    "tags": []
   },
   "outputs": [],
   "source": [
    "# I imported the csv file using pandas\n",
    "poll_csv = Path(\"Resources/election_data.csv\")\n",
    "poll_df = pd.read_csv (poll_csv, encoding=\"utf-8\")\n"
   ]
  },
  {
   "cell_type": "code",
   "execution_count": 26,
   "id": "94feaf4a-e323-4496-bcfe-ca4dcb258ae1",
   "metadata": {
    "tags": []
   },
   "outputs": [],
   "source": [
    "# I counted all the votes from the column Ballot ID using the count function\n",
    "total_votes = poll_df[\"Ballot ID\"].count()\n"
   ]
  },
  {
   "cell_type": "code",
   "execution_count": 27,
   "id": "2571a4b2-235e-4a29-b30e-961b29f0d17e",
   "metadata": {
    "tags": []
   },
   "outputs": [],
   "source": [
    "candidates = poll_df[\"Candidate\"].unique()\n",
    "candidate_total = poll_df['Candidate'].value_counts()"
   ]
  },
  {
   "cell_type": "code",
   "execution_count": 28,
   "id": "d8d245a4-a8d0-4dbd-b6af-dacbd7332b8c",
   "metadata": {
    "tags": []
   },
   "outputs": [],
   "source": [
    "#for each candidate i use.loc to find all the values containing the name of the candidate and use those to get the percentage and the total votes\n",
    "candidate_charles = poll_df.loc[poll_df[\"Candidate\"] == 'Charles Casper Stockham']\n",
    "charles_votes = candidate_charles.count()\n",
    "charles_per = charles_votes/total_votes *100\n",
    "charles_per = round(charles_per[1],3)\n",
    "charles_total= (candidate_charles, charles_votes)\n"
   ]
  },
  {
   "cell_type": "code",
   "execution_count": 29,
   "id": "3c38c19c-5a43-4a78-a5f6-47c3873b020e",
   "metadata": {
    "tags": []
   },
   "outputs": [],
   "source": [
    "#for each candidate i use.loc to find all the values containing the name of the candidate and use those to get the percentage and the total votes\n",
    "candidate_diana = poll_df.loc[poll_df[\"Candidate\"] == 'Diana DeGette']\n",
    "diana_votes = candidate_diana.count()\n",
    "diana_per = diana_votes/total_votes *100\n",
    "diana_per = round(diana_per[1],3)\n",
    "diana_total= (candidate_diana, diana_votes)\n"
   ]
  },
  {
   "cell_type": "code",
   "execution_count": 30,
   "id": "6f49754d-8a69-421b-ab65-741ae104be3a",
   "metadata": {
    "tags": []
   },
   "outputs": [],
   "source": [
    "#for each candidate i use.loc to find all the values containing the name of the candidate and use those to get the percentage and the total votes\n",
    "candidate_raymond = poll_df.loc[poll_df[\"Candidate\"] == 'Raymon Anthony Doane']\n",
    "raymond_votes = candidate_raymond.count()\n",
    "raymond_per = raymond_votes/total_votes *100\n",
    "raymond_per = round(raymond_per[1],3)\n",
    "raymond_total= (candidate_raymond, raymond_votes)\n"
   ]
  },
  {
   "cell_type": "code",
   "execution_count": 34,
   "id": "8f2c43cb-0f8b-4a4d-844a-7581b1b8dadf",
   "metadata": {
    "tags": []
   },
   "outputs": [],
   "source": [
    "#to get the winner I used idmax which get the index of the max value\n",
    "candidate_winner= candidate_total.idxmax()\n"
   ]
  },
  {
   "cell_type": "code",
   "execution_count": 35,
   "id": "ce73e54e-20b7-4ddc-bd2d-f8b7ef122555",
   "metadata": {
    "tags": []
   },
   "outputs": [
    {
     "name": "stdout",
     "output_type": "stream",
     "text": [
      "Election results\n",
      "-------------------\n",
      "total_votes :  369711\n",
      "-------------------\n",
      "Charles Casper Stockham  :  23.049 %  ( 85213 )\n",
      "Diana DeGette  :  73.812 %   ( 272892 )\n",
      "Raymon Anthony Doane  :  3.139 %   ( 11606 )\n",
      "-------------------\n",
      "Winner :  Diana DeGette\n"
     ]
    }
   ],
   "source": [
    "print('Election results')\n",
    "print('-------------------')\n",
    "print('total_votes : ', total_votes)\n",
    "print('-------------------')\n",
    "print(candidates[0], \" : \", charles_per,'%' \" \", '(', charles_votes[1],')')\n",
    "print(candidates[1], \" : \", diana_per,'%', \" \", '(', diana_votes[1],')')\n",
    "print(candidates[2], ' : ', raymond_per,'%', ' ', '(', raymond_votes[1], ')')\n",
    "print('-------------------')\n",
    "print('Winner : ', candidate_winner)"
   ]
  },
  {
   "cell_type": "code",
   "execution_count": null,
   "id": "c50f8c0b-cf5b-4b8a-a6cd-4174ddbdb7d4",
   "metadata": {},
   "outputs": [],
   "source": []
  }
 ],
 "metadata": {
  "kernelspec": {
   "display_name": "Python 3 (ipykernel)",
   "language": "python",
   "name": "python3"
  },
  "language_info": {
   "codemirror_mode": {
    "name": "ipython",
    "version": 3
   },
   "file_extension": ".py",
   "mimetype": "text/x-python",
   "name": "python",
   "nbconvert_exporter": "python",
   "pygments_lexer": "ipython3",
   "version": "3.11.5"
  }
 },
 "nbformat": 4,
 "nbformat_minor": 5
}
